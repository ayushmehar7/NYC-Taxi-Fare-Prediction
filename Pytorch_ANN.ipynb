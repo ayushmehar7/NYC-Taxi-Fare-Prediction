{
 "cells": [
  {
   "cell_type": "code",
   "execution_count": 1,
   "metadata": {},
   "outputs": [],
   "source": [
    "import numpy as np\n",
    "import pandas as pd\n",
    "import matplotlib.pyplot as plt\n",
    "import seaborn as sns"
   ]
  },
  {
   "cell_type": "code",
   "execution_count": 2,
   "metadata": {},
   "outputs": [],
   "source": [
    "import torch \n",
    "import torch.nn as nn"
   ]
  },
  {
   "cell_type": "code",
   "execution_count": 3,
   "metadata": {},
   "outputs": [],
   "source": [
    "taxi = pd.read_csv(\"cleaned_NYCTaxi.csv\")"
   ]
  },
  {
   "cell_type": "code",
   "execution_count": 4,
   "metadata": {},
   "outputs": [
    {
     "data": {
      "text/html": [
       "<div>\n",
       "<style scoped>\n",
       "    .dataframe tbody tr th:only-of-type {\n",
       "        vertical-align: middle;\n",
       "    }\n",
       "\n",
       "    .dataframe tbody tr th {\n",
       "        vertical-align: top;\n",
       "    }\n",
       "\n",
       "    .dataframe thead th {\n",
       "        text-align: right;\n",
       "    }\n",
       "</style>\n",
       "<table border=\"1\" class=\"dataframe\">\n",
       "  <thead>\n",
       "    <tr style=\"text-align: right;\">\n",
       "      <th></th>\n",
       "      <th>journey_distance</th>\n",
       "      <th>am_or_pm</th>\n",
       "      <th>day_of_week</th>\n",
       "      <th>pickup_hour</th>\n",
       "      <th>passenger_count</th>\n",
       "      <th>fare_amount</th>\n",
       "    </tr>\n",
       "  </thead>\n",
       "  <tbody>\n",
       "    <tr>\n",
       "      <th>0</th>\n",
       "      <td>2.126312</td>\n",
       "      <td>AM</td>\n",
       "      <td>Mon</td>\n",
       "      <td>4</td>\n",
       "      <td>1</td>\n",
       "      <td>6.5</td>\n",
       "    </tr>\n",
       "    <tr>\n",
       "      <th>1</th>\n",
       "      <td>1.392307</td>\n",
       "      <td>AM</td>\n",
       "      <td>Sat</td>\n",
       "      <td>11</td>\n",
       "      <td>1</td>\n",
       "      <td>6.9</td>\n",
       "    </tr>\n",
       "    <tr>\n",
       "      <th>2</th>\n",
       "      <td>3.326763</td>\n",
       "      <td>AM</td>\n",
       "      <td>Sat</td>\n",
       "      <td>7</td>\n",
       "      <td>2</td>\n",
       "      <td>10.1</td>\n",
       "    </tr>\n",
       "    <tr>\n",
       "      <th>3</th>\n",
       "      <td>1.864129</td>\n",
       "      <td>PM</td>\n",
       "      <td>Sun</td>\n",
       "      <td>17</td>\n",
       "      <td>1</td>\n",
       "      <td>8.9</td>\n",
       "    </tr>\n",
       "    <tr>\n",
       "      <th>4</th>\n",
       "      <td>7.231321</td>\n",
       "      <td>PM</td>\n",
       "      <td>Fri</td>\n",
       "      <td>22</td>\n",
       "      <td>1</td>\n",
       "      <td>19.7</td>\n",
       "    </tr>\n",
       "  </tbody>\n",
       "</table>\n",
       "</div>"
      ],
      "text/plain": [
       "   journey_distance am_or_pm day_of_week  pickup_hour  passenger_count  \\\n",
       "0          2.126312       AM         Mon            4                1   \n",
       "1          1.392307       AM         Sat           11                1   \n",
       "2          3.326763       AM         Sat            7                2   \n",
       "3          1.864129       PM         Sun           17                1   \n",
       "4          7.231321       PM         Fri           22                1   \n",
       "\n",
       "   fare_amount  \n",
       "0          6.5  \n",
       "1          6.9  \n",
       "2         10.1  \n",
       "3          8.9  \n",
       "4         19.7  "
      ]
     },
     "execution_count": 4,
     "metadata": {},
     "output_type": "execute_result"
    }
   ],
   "source": [
    "taxi.head()"
   ]
  },
  {
   "cell_type": "code",
   "execution_count": 5,
   "metadata": {},
   "outputs": [],
   "source": [
    "cat_cols = ['am_or_pm','day_of_week','pickup_hour']\n",
    "cont_cols = ['journey_distance','passenger_count']\n",
    "label = ['fare_amount']"
   ]
  },
  {
   "cell_type": "code",
   "execution_count": 6,
   "metadata": {},
   "outputs": [],
   "source": [
    "for i in cat_cols:\n",
    "    taxi[i] = taxi[i].astype('category',)"
   ]
  },
  {
   "cell_type": "code",
   "execution_count": 7,
   "metadata": {},
   "outputs": [
    {
     "data": {
      "text/plain": [
       "journey_distance     float64\n",
       "am_or_pm            category\n",
       "day_of_week         category\n",
       "pickup_hour         category\n",
       "passenger_count        int64\n",
       "fare_amount          float64\n",
       "dtype: object"
      ]
     },
     "execution_count": 7,
     "metadata": {},
     "output_type": "execute_result"
    }
   ],
   "source": [
    "taxi.dtypes"
   ]
  },
  {
   "cell_type": "code",
   "execution_count": 8,
   "metadata": {},
   "outputs": [],
   "source": [
    "cat_data = np.stack([taxi[i].cat.codes.values for i in cat_cols],axis = 1)"
   ]
  },
  {
   "cell_type": "code",
   "execution_count": 9,
   "metadata": {},
   "outputs": [
    {
     "data": {
      "text/plain": [
       "array([[ 0,  1,  4],\n",
       "       [ 0,  2, 11],\n",
       "       [ 0,  2,  7],\n",
       "       ...,\n",
       "       [ 1,  3, 14],\n",
       "       [ 0,  5,  4],\n",
       "       [ 1,  2, 12]], dtype=int8)"
      ]
     },
     "execution_count": 9,
     "metadata": {},
     "output_type": "execute_result"
    }
   ],
   "source": [
    "cat_data"
   ]
  },
  {
   "cell_type": "code",
   "execution_count": 10,
   "metadata": {},
   "outputs": [],
   "source": [
    "cont_data = np.stack([taxi[i].values for i in cont_cols],axis = 1)"
   ]
  },
  {
   "cell_type": "code",
   "execution_count": 11,
   "metadata": {},
   "outputs": [],
   "source": [
    "cat = torch.tensor(cat_data,dtype = torch.int64).cuda()"
   ]
  },
  {
   "cell_type": "code",
   "execution_count": 12,
   "metadata": {},
   "outputs": [],
   "source": [
    "cont = torch.tensor(cont_data,dtype = torch.float32).cuda()"
   ]
  },
  {
   "cell_type": "code",
   "execution_count": 13,
   "metadata": {},
   "outputs": [
    {
     "data": {
      "text/plain": [
       "tensor([[2.1263, 1.0000],\n",
       "        [1.3923, 1.0000],\n",
       "        [3.3268, 2.0000],\n",
       "        ...,\n",
       "        [5.0525, 3.0000],\n",
       "        [1.2089, 1.0000],\n",
       "        [1.4274, 3.0000]], device='cuda:0')"
      ]
     },
     "execution_count": 13,
     "metadata": {},
     "output_type": "execute_result"
    }
   ],
   "source": [
    "cont"
   ]
  },
  {
   "cell_type": "code",
   "execution_count": 14,
   "metadata": {},
   "outputs": [],
   "source": [
    "Y = torch.tensor(taxi['fare_amount'].values,dtype = torch.float32).cuda().reshape(1,-1)"
   ]
  },
  {
   "cell_type": "code",
   "execution_count": 15,
   "metadata": {},
   "outputs": [],
   "source": [
    "Y = Y.reshape((-1,1))"
   ]
  },
  {
   "cell_type": "code",
   "execution_count": 16,
   "metadata": {},
   "outputs": [
    {
     "data": {
      "text/plain": [
       "tensor([[ 6.5000],\n",
       "        [ 6.9000],\n",
       "        [10.1000],\n",
       "        ...,\n",
       "        [12.5000],\n",
       "        [ 4.9000],\n",
       "        [ 5.3000]], device='cuda:0')"
      ]
     },
     "execution_count": 16,
     "metadata": {},
     "output_type": "execute_result"
    }
   ],
   "source": [
    "Y"
   ]
  },
  {
   "cell_type": "code",
   "execution_count": 17,
   "metadata": {},
   "outputs": [
    {
     "data": {
      "text/plain": [
       "torch.Size([120000, 3])"
      ]
     },
     "execution_count": 17,
     "metadata": {},
     "output_type": "execute_result"
    }
   ],
   "source": [
    "cat.shape"
   ]
  },
  {
   "cell_type": "code",
   "execution_count": 18,
   "metadata": {},
   "outputs": [
    {
     "data": {
      "text/plain": [
       "torch.Size([120000, 2])"
      ]
     },
     "execution_count": 18,
     "metadata": {},
     "output_type": "execute_result"
    }
   ],
   "source": [
    "cont.shape"
   ]
  },
  {
   "cell_type": "code",
   "execution_count": 19,
   "metadata": {},
   "outputs": [
    {
     "data": {
      "text/plain": [
       "torch.Size([120000, 1])"
      ]
     },
     "execution_count": 19,
     "metadata": {},
     "output_type": "execute_result"
    }
   ],
   "source": [
    "Y.shape"
   ]
  },
  {
   "cell_type": "code",
   "execution_count": 20,
   "metadata": {},
   "outputs": [],
   "source": [
    "cat_szs = [len(taxi[i].cat.categories) for i in cat_cols]\n",
    "emb_szs = [(i,min(50,(i+1)//2)) for i in cat_szs]\n"
   ]
  },
  {
   "cell_type": "code",
   "execution_count": 21,
   "metadata": {},
   "outputs": [
    {
     "data": {
      "text/plain": [
       "[(2, 1), (7, 4), (24, 12)]"
      ]
     },
     "execution_count": 21,
     "metadata": {},
     "output_type": "execute_result"
    }
   ],
   "source": [
    "emb_szs"
   ]
  },
  {
   "cell_type": "code",
   "execution_count": 22,
   "metadata": {},
   "outputs": [],
   "source": [
    "class TabularModel(nn.Module):\n",
    "\n",
    "    def __init__(self, emb_szs, n_cont, out_sz, layers, p=0.5):\n",
    "        super().__init__()\n",
    "        self.embeds = nn.ModuleList([nn.Embedding(ni, nf) for ni,nf in emb_szs])\n",
    "        self.emb_drop = nn.Dropout(p)\n",
    "        self.bn_cont = nn.BatchNorm1d(n_cont)\n",
    "        \n",
    "        layerlist = []\n",
    "        n_emb = sum((nf for ni,nf in emb_szs))\n",
    "        n_in = n_emb + n_cont\n",
    "        \n",
    "        for i in layers:\n",
    "            layerlist.append(nn.Linear(n_in,i)) \n",
    "            layerlist.append(nn.ReLU(inplace=True))\n",
    "            layerlist.append(nn.BatchNorm1d(i))\n",
    "            layerlist.append(nn.Dropout(p))\n",
    "            n_in = i\n",
    "        layerlist.append(nn.Linear(layers[-1],out_sz))\n",
    "            \n",
    "        self.layers = nn.Sequential(*layerlist)\n",
    "    \n",
    "    def forward(self, x_cat, x_cont):\n",
    "        embeddings = []\n",
    "        for i,e in enumerate(self.embeds):\n",
    "            embeddings.append(e(x_cat[:,i]))\n",
    "        x = torch.cat(embeddings, 1)\n",
    "        x = self.emb_drop(x)\n",
    "        \n",
    "        x_cont = self.bn_cont(x_cont)\n",
    "        x = torch.cat([x, x_cont], 1)\n",
    "        x = self.layers(x)\n",
    "        return x"
   ]
  },
  {
   "cell_type": "code",
   "execution_count": 23,
   "metadata": {},
   "outputs": [],
   "source": [
    "model = TabularModel(emb_szs,cont.shape[1],1,[200,100],p = 0.4)\n",
    "model = model.cuda()"
   ]
  },
  {
   "cell_type": "code",
   "execution_count": 24,
   "metadata": {},
   "outputs": [
    {
     "data": {
      "text/plain": [
       "TabularModel(\n",
       "  (embeds): ModuleList(\n",
       "    (0): Embedding(2, 1)\n",
       "    (1): Embedding(7, 4)\n",
       "    (2): Embedding(24, 12)\n",
       "  )\n",
       "  (emb_drop): Dropout(p=0.4)\n",
       "  (bn_cont): BatchNorm1d(2, eps=1e-05, momentum=0.1, affine=True, track_running_stats=True)\n",
       "  (layers): Sequential(\n",
       "    (0): Linear(in_features=19, out_features=200, bias=True)\n",
       "    (1): ReLU(inplace)\n",
       "    (2): BatchNorm1d(200, eps=1e-05, momentum=0.1, affine=True, track_running_stats=True)\n",
       "    (3): Dropout(p=0.4)\n",
       "    (4): Linear(in_features=200, out_features=100, bias=True)\n",
       "    (5): ReLU(inplace)\n",
       "    (6): BatchNorm1d(100, eps=1e-05, momentum=0.1, affine=True, track_running_stats=True)\n",
       "    (7): Dropout(p=0.4)\n",
       "    (8): Linear(in_features=100, out_features=1, bias=True)\n",
       "  )\n",
       ")"
      ]
     },
     "execution_count": 24,
     "metadata": {},
     "output_type": "execute_result"
    }
   ],
   "source": [
    "model"
   ]
  },
  {
   "cell_type": "code",
   "execution_count": 25,
   "metadata": {},
   "outputs": [
    {
     "data": {
      "text/plain": [
       "True"
      ]
     },
     "execution_count": 25,
     "metadata": {},
     "output_type": "execute_result"
    }
   ],
   "source": [
    "next(model.parameters()).is_cuda"
   ]
  },
  {
   "cell_type": "code",
   "execution_count": 26,
   "metadata": {},
   "outputs": [],
   "source": [
    "criterion = nn.MSELoss()\n",
    "optimizer = torch.optim.Adam(model.parameters(),lr = 0.001)"
   ]
  },
  {
   "cell_type": "code",
   "execution_count": 27,
   "metadata": {},
   "outputs": [],
   "source": [
    "batch_size = 120000\n",
    "test_size = 40000\n",
    "cat_train = cat[:batch_size-test_size]\n",
    "cat_test = cat[batch_size-test_size:]\n",
    "cont_train = cont[:batch_size-test_size]\n",
    "cont_test = cont[batch_size-test_size:]\n",
    "Y_train = Y[:batch_size - test_size]\n",
    "Y_test = Y[batch_size-test_size:]\n"
   ]
  },
  {
   "cell_type": "code",
   "execution_count": 28,
   "metadata": {},
   "outputs": [
    {
     "name": "stdout",
     "output_type": "stream",
     "text": [
      "torch.Size([80000, 3]) torch.Size([80000, 2]) torch.Size([80000, 1])\n",
      "torch.Size([40000, 3]) torch.Size([40000, 2]) torch.Size([40000, 1])\n",
      "torch.int64 torch.float32 torch.float32\n",
      "torch.int64 torch.float32 torch.float32\n"
     ]
    }
   ],
   "source": [
    "print(cat_train.shape,cont_train.shape,Y_train.shape)\n",
    "print(cat_test.shape,cont_test.shape,Y_test.shape)\n",
    "print(cat_train.dtype,cont_train.dtype,Y_train.dtype)\n",
    "print(cat_test.dtype,cont_test.dtype,Y_test.dtype)"
   ]
  },
  {
   "cell_type": "code",
   "execution_count": 29,
   "metadata": {},
   "outputs": [
    {
     "name": "stdout",
     "output_type": "stream",
     "text": [
      "cuda:0 cuda:0 cuda:0 cuda:0 cuda:0 cuda:0\n"
     ]
    }
   ],
   "source": [
    "print(cat_train.device,cat_train.device,cat_test.device,cont_test.device,Y_test.device,Y_train.device)"
   ]
  },
  {
   "cell_type": "code",
   "execution_count": 30,
   "metadata": {},
   "outputs": [
    {
     "name": "stdout",
     "output_type": "stream",
     "text": [
      "epoch 25 : loss : 11.418351173400879\n",
      "epoch 50 : loss : 10.355751991271973\n",
      "epoch 75 : loss : 9.522114753723145\n",
      "epoch 100 : loss : 8.783745765686035\n",
      "epoch 125 : loss : 7.9070353507995605\n",
      "epoch 150 : loss : 6.82925271987915\n",
      "epoch 175 : loss : 5.615904808044434\n",
      "epoch 200 : loss : 4.532116413116455\n",
      "epoch 225 : loss : 3.8673431873321533\n",
      "epoch 250 : loss : 3.663058280944824\n",
      "epoch 275 : loss : 3.6363580226898193\n",
      "epoch 300 : loss : 3.5926530361175537\n",
      "epoch 325 : loss : 3.5821235179901123\n",
      "epoch 350 : loss : 3.55942702293396\n",
      "epoch 375 : loss : 3.549145460128784\n",
      "epoch 400 : loss : 3.536487340927124\n",
      "epoch 425 : loss : 3.5182230472564697\n",
      "epoch 450 : loss : 3.4976136684417725\n",
      "epoch: 449  loss: 3.4976136684417725\n",
      "\n",
      "Duration: 0.9860475858052572 minutes\n"
     ]
    }
   ],
   "source": [
    "import time\n",
    "start_time = time.time()\n",
    "epochs = 450\n",
    "losses = []\n",
    "for i in range(epochs):\n",
    "    Y_pred = model.forward(cat_train,cont_train)\n",
    "    loss = torch.sqrt(criterion(Y_pred,Y_train))\n",
    "    losses.append(loss)\n",
    "    if (i+1)%25 == 0:\n",
    "        print(f'epoch {i+1} : loss : {loss.item()}')\n",
    "    optimizer.zero_grad()\n",
    "    loss.backward()\n",
    "    optimizer.step()\n",
    "print(f'epoch: {i:3}  loss: {loss.item()}')\n",
    "print(f'\\nDuration: {(time.time() - start_time)/60} minutes') "
   ]
  },
  {
   "cell_type": "code",
   "execution_count": 33,
   "metadata": {},
   "outputs": [
    {
     "data": {
      "text/plain": [
       "[<matplotlib.lines.Line2D at 0x1d78d3657f0>]"
      ]
     },
     "execution_count": 33,
     "metadata": {},
     "output_type": "execute_result"
    },
    {
     "data": {
      "image/png": "[encoded data removed]",
      "text/plain": [
       "<Figure size 432x288 with 1 Axes>"
      ]
     },
     "metadata": {
      "needs_background": "light"
     },
     "output_type": "display_data"
    }
   ],
   "source": [
    "plt.plot(losses)"
   ]
  },
  {
   "cell_type": "code",
   "execution_count": 34,
   "metadata": {},
   "outputs": [
    {
     "name": "stdout",
     "output_type": "stream",
     "text": [
      "RMSE : 3.4925832748413086\n"
     ]
    }
   ],
   "source": [
    "with torch.no_grad():\n",
    "    Y_pred = model(cat_test,cont_test)\n",
    "    loss = torch.sqrt(criterion(Y_test,Y_pred))\n",
    "print(f'RMSE : {loss}')"
   ]
  },
  {
   "cell_type": "code",
   "execution_count": 39,
   "metadata": {},
   "outputs": [],
   "source": [
    "Y_pred_cpu = Y_pred.detach().cpu()"
   ]
  },
  {
   "cell_type": "code",
   "execution_count": 41,
   "metadata": {},
   "outputs": [],
   "source": [
    "Y_test_cpu = Y_test.detach().cpu()"
   ]
  },
  {
   "cell_type": "code",
   "execution_count": 42,
   "metadata": {},
   "outputs": [
    {
     "data": {
      "text/plain": [
       "<matplotlib.collections.PathCollection at 0x1d7f5df07b8>"
      ]
     },
     "execution_count": 42,
     "metadata": {},
     "output_type": "execute_result"
    },
    {
     "data": {
      "image/png": "[encoded data removed]",
      "text/plain": [
       "<Figure size 432x288 with 1 Axes>"
      ]
     },
     "metadata": {
      "needs_background": "light"
     },
     "output_type": "display_data"
    }
   ],
   "source": [
    "plt.scatter(Y_pred_cpu.numpy(),Y_test_cpu.numpy())"
   ]
  },
  {
   "cell_type": "code",
   "execution_count": 43,
   "metadata": {},
   "outputs": [],
   "source": [
    "torch.save(model.state_dict(),'model.pt')"
   ]
  },
  {
   "cell_type": "code",
   "execution_count": null,
   "metadata": {},
   "outputs": [],
   "source": []
  }
 ],
 "metadata": {
  "kernelspec": {
   "display_name": "Python 3",
   "language": "python",
   "name": "python3"
  },
  "language_info": {
   "codemirror_mode": {
    "name": "ipython",
    "version": 3
   },
   "file_extension": ".py",
   "mimetype": "text/x-python",
   "name": "python",
   "nbconvert_exporter": "python",
   "pygments_lexer": "ipython3",
   "version": "3.7.3"
  }
 },
 "nbformat": 4,
 "nbformat_minor": 4
}
